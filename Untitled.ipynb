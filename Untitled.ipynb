{
 "cells": [
  {
   "cell_type": "code",
   "execution_count": null,
   "id": "c9af8456-fb19-44a0-ba64-e5eda068cec5",
   "metadata": {},
   "outputs": [],
   "source": [
    "import matplotlib.pyplot as plt\n",
    "import seaborn as sns\n",
    "import pandas as pd\n",
    "\n",
    "# Load the datasets\n",
    "crime_data_path = 'path_to/california_department_of_justice_1998_to_2023.csv'\n",
    "inflation_data_path = 'path_to/US_Inflation_Rates_1998_to_2023.csv'\n",
    "\n",
    "crime_data = pd.read_csv(crime_data_path)\n",
    "inflation_data = pd.read_csv(inflation_data_path)"
   ]
  },
  {
   "cell_type": "code",
   "execution_count": null,
   "id": "fbe59565-55f1-47bd-861e-3d3f605f26b3",
   "metadata": {},
   "outputs": [],
   "source": [
    "# Remove any extra spaces and non-numeric characters from the inflation rate column\n",
    "inflation_data['Inflation Rate YOY, From Previous Dec.'] = inflation_data['Inflation Rate YOY, From Previous Dec.'].str.replace('%', '').astype(float)\n",
    "\n",
    "# Keep only necessary columns for inflation data\n",
    "inflation_data_cleaned = inflation_data[['Year', 'Inflation Rate YOY, From Previous Dec.']]"
   ]
  },
  {
   "cell_type": "code",
   "execution_count": null,
   "id": "5fdb2d66-2a81-4b90-a140-f5dc62e44bf0",
   "metadata": {},
   "outputs": [],
   "source": [
    "# Convert Year columns to integer\n",
    "crime_data['Year'] = crime_data['Year'].astype(int)\n",
    "inflation_data_cleaned['Year'] = inflation_data_cleaned['Year'].astype(int)\n",
    "\n",
    "# Merge datasets on 'Year'\n",
    "merged_data = pd.merge(crime_data, inflation_data_cleaned, on='Year')"
   ]
  },
  {
   "cell_type": "code",
   "execution_count": null,
   "id": "af0a4099-f89a-4c0e-9c02-ee0c4dd9df2c",
   "metadata": {},
   "outputs": [],
   "source": [
    "# Convert columns to numeric, removing commas for thousands\n",
    "columns_of_interest = ['Violent Crimes', 'Homicide', 'Rape', 'Robbery', 'Inflation Rate YOY, From Previous Dec.']\n",
    "for col in columns_of_interest[:-1]:  # All except the inflation rate column\n",
    "    merged_data[col] = merged_data[col].str.replace(',', '').astype(float)\n"
   ]
  },
  {
   "cell_type": "code",
   "execution_count": null,
   "id": "15b1f264-820e-4fdc-ba74-73ed74442220",
   "metadata": {},
   "outputs": [],
   "source": [
    "# Set plot style\n",
    "sns.set(style=\"whitegrid\")\n",
    "\n",
    "# Create subplots for each crime type vs inflation rate\n",
    "fig, axes = plt.subplots(2, 2, figsize=(14, 10))"
   ]
  },
  {
   "cell_type": "code",
   "execution_count": null,
   "id": "8e7de545-a460-4e84-9d58-e7eba0c28d11",
   "metadata": {},
   "outputs": [],
   "source": [
    " Plot Violent Crimes vs Inflation Rate\n",
    "sns.scatterplot(ax=axes[0, 0], x='Inflation Rate YOY, From Previous Dec.', y='Violent Crimes', data=merged_data)\n",
    "axes[0, 0].set_title('Violent Crimes vs Inflation Rate')\n",
    "axes[0, 0].set_xlabel('Inflation Rate (%)')\n",
    "axes[0, 0].set_ylabel('Violent Crimes')\n",
    "\n",
    "# Plot Homicide vs Inflation Rate\n",
    "sns.scatterplot(ax=axes[0, 1], x='Inflation Rate YOY, From Previous Dec.', y='Homicide', data=merged_data)\n",
    "axes[0, 1].set_title('Homicide vs Inflation Rate')\n",
    "axes[0, 1].set_xlabel('Inflation Rate (%)')\n",
    "axes[0, 1].set_ylabel('Homicide')\n",
    "\n",
    "# Plot Rape vs Inflation Rate\n",
    "sns.scatterplot(ax=axes[1, 0], x='Inflation Rate YOY, From Previous Dec.', y='Rape', data=merged_data)\n",
    "axes[1, 0].set_title('Rape vs Inflation Rate')\n",
    "axes[1, 0].set_xlabel('Inflation Rate (%)')\n",
    "axes[1, 0].set_ylabel('Rape')"
   ]
  },
  {
   "cell_type": "code",
   "execution_count": null,
   "id": "1a176cbc-49df-4926-9548-a09312dfb924",
   "metadata": {},
   "outputs": [],
   "source": [
    "# Plot Homicide vs Inflation Rate\n",
    "sns.scatterplot(ax=axes[0, 1], x='Inflation Rate YOY, From Previous Dec.', y='Homicide', data=merged_data)\n",
    "axes[0, 1].set_title('Homicide vs Inflation Rate')\n",
    "axes[0, 1].set_xlabel('Inflation Rate (%)')\n",
    "axes[0, 1].set_ylabel('Homicide')"
   ]
  },
  {
   "cell_type": "code",
   "execution_count": null,
   "id": "0be46500-b807-4e52-9d5f-2df7cadde61f",
   "metadata": {},
   "outputs": [],
   "source": [
    "# Plot Rape vs Inflation Rate\n",
    "sns.scatterplot(ax=axes[1, 0], x='Inflation Rate YOY, From Previous Dec.', y='Rape', data=merged_data)\n",
    "axes[1, 0].set_title('Rape vs Inflation Rate')\n",
    "axes[1, 0].set_xlabel('Inflation Rate (%)')\n",
    "axes[1, 0].set_ylabel('Rape')"
   ]
  },
  {
   "cell_type": "code",
   "execution_count": null,
   "id": "f2a89b21-4411-4fd9-b4c4-f1bad135d777",
   "metadata": {},
   "outputs": [],
   "source": [
    "# Plot Robbery vs Inflation Rate\n",
    "sns.scatterplot(ax=axes[1, 1], x='Inflation Rate YOY, From Previous Dec.', y='Robbery', data=merged_data)\n",
    "axes[1, 1].set_title('Robbery vs Inflation Rate')\n",
    "axes[1, 1].set_xlabel('Inflation Rate (%)')\n",
    "axes[1, 1].set_ylabel('Robbery')"
   ]
  }
 ],
 "metadata": {
  "kernelspec": {
   "display_name": "Python 3 (ipykernel)",
   "language": "python",
   "name": "python3"
  },
  "language_info": {
   "codemirror_mode": {
    "name": "ipython",
    "version": 3
   },
   "file_extension": ".py",
   "mimetype": "text/x-python",
   "name": "python",
   "nbconvert_exporter": "python",
   "pygments_lexer": "ipython3",
   "version": "3.10.14"
  }
 },
 "nbformat": 4,
 "nbformat_minor": 5
}
